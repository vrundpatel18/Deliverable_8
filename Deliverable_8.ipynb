{
  "nbformat": 4,
  "nbformat_minor": 0,
  "metadata": {
    "colab": {
      "provenance": []
    },
    "kernelspec": {
      "name": "python3",
      "display_name": "Python 3"
    },
    "language_info": {
      "name": "python"
    }
  },
  "cells": [
    {
      "cell_type": "code",
      "source": [
        "import numpy as np"
      ],
      "metadata": {
        "id": "77buRTqEk4-j"
      },
      "execution_count": 19,
      "outputs": []
    },
    {
      "cell_type": "code",
      "source": [
        "def random_list(size):\n",
        "  list = []\n",
        "  for i in range(size):\n",
        "    list.append(np.random.randint(10,50))\n",
        "  return list\n",
        "\n",
        "def sum_random (list):\n",
        "  sum = 0\n",
        "  for i in range(len(list)):\n",
        "    sum = sum + list[i]\n",
        "  return sum"
      ],
      "metadata": {
        "id": "A3ian5_Cnb6d"
      },
      "execution_count": 36,
      "outputs": []
    },
    {
      "cell_type": "code",
      "source": [
        "while True:\n",
        "  n = int(input(\"Enter an integer between 5 and 15: \"))\n",
        "  if n >= 5 and n <= 15:\n",
        "    break"
      ],
      "metadata": {
        "colab": {
          "base_uri": "https://localhost:8080/"
        },
        "id": "8KhExu5zrvzO",
        "outputId": "358b45b4-c0e3-47e1-dbbc-a98916a6ad84"
      },
      "execution_count": 43,
      "outputs": [
        {
          "name": "stdout",
          "output_type": "stream",
          "text": [
            "Enter an integer between 5 and 15: 15\n"
          ]
        }
      ]
    },
    {
      "cell_type": "code",
      "source": [
        "Mylist = random_list(n)\n",
        "Mylist\n",
        "print(\"The elements in the array are: \", Mylist)"
      ],
      "metadata": {
        "colab": {
          "base_uri": "https://localhost:8080/"
        },
        "id": "K1WV4v1Xsukj",
        "outputId": "a9e523ec-f6b3-4497-e48a-5c7781996d8f"
      },
      "execution_count": 44,
      "outputs": [
        {
          "output_type": "stream",
          "name": "stdout",
          "text": [
            "The elements in the array are:  [45, 31, 33, 49, 37, 47, 44, 18, 31, 38, 15, 18, 16, 20, 10]\n"
          ]
        }
      ]
    },
    {
      "cell_type": "code",
      "source": [
        "Mysum = sum_random(Mylist)\n",
        "Mysum\n",
        "print(\"The sum is: \", Mysum)"
      ],
      "metadata": {
        "colab": {
          "base_uri": "https://localhost:8080/"
        },
        "id": "cDHHUoCIsuuV",
        "outputId": "fc7f5c6a-fe7c-4df6-99f4-428ff7aaeff7"
      },
      "execution_count": 45,
      "outputs": [
        {
          "output_type": "stream",
          "name": "stdout",
          "text": [
            "The sum is:  452\n"
          ]
        }
      ]
    }
  ]
}